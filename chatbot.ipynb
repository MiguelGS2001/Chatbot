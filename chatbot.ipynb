{
 "cells": [
  {
   "cell_type": "markdown",
   "metadata": {},
   "source": [
    "### Paquetes"
   ]
  },
  {
   "cell_type": "code",
   "execution_count": 65,
   "metadata": {},
   "outputs": [],
   "source": [
    "from langchain.document_loaders import PyPDFLoader\n",
    "from langchain.text_splitter import RecursiveCharacterTextSplitter\n",
    "import pandas as pd\n",
    "from openai import OpenAI\n",
    "import numpy as np\n",
    "import json\n",
    "import matplotlib.pyplot as plt"
   ]
  },
  {
   "cell_type": "markdown",
   "metadata": {},
   "source": [
    "### Carga y procesamiento documento"
   ]
  },
  {
   "cell_type": "code",
   "execution_count": 2,
   "metadata": {},
   "outputs": [],
   "source": [
    "loader = PyPDFLoader(\"llm_doc.pdf\")\n",
    "documents = loader.load()"
   ]
  },
  {
   "cell_type": "code",
   "execution_count": 3,
   "metadata": {},
   "outputs": [],
   "source": [
    "text_splitter = RecursiveCharacterTextSplitter(chunk_size = 1000, chunk_overlap = 100)\n",
    "doc_splits = text_splitter.split_documents(documents)"
   ]
  },
  {
   "cell_type": "code",
   "execution_count": 4,
   "metadata": {},
   "outputs": [
    {
     "data": {
      "text/html": [
       "<div>\n",
       "<style scoped>\n",
       "    .dataframe tbody tr th:only-of-type {\n",
       "        vertical-align: middle;\n",
       "    }\n",
       "\n",
       "    .dataframe tbody tr th {\n",
       "        vertical-align: top;\n",
       "    }\n",
       "\n",
       "    .dataframe thead th {\n",
       "        text-align: right;\n",
       "    }\n",
       "</style>\n",
       "<table border=\"1\" class=\"dataframe\">\n",
       "  <thead>\n",
       "    <tr style=\"text-align: right;\">\n",
       "      <th></th>\n",
       "      <th>Chunks</th>\n",
       "      <th>Metadata</th>\n",
       "    </tr>\n",
       "  </thead>\n",
       "  <tbody>\n",
       "    <tr>\n",
       "      <th>0</th>\n",
       "      <td>Building Pipelines and Environments for  \\nLar...</td>\n",
       "      <td>{'source': 'llm_doc.pdf', 'page': 0}</td>\n",
       "    </tr>\n",
       "    <tr>\n",
       "      <th>1</th>\n",
       "      <td>Contents\\nIntroduction to LLMOps 1\\nWhy LLMOps...</td>\n",
       "      <td>{'source': 'llm_doc.pdf', 'page': 1}</td>\n",
       "    </tr>\n",
       "    <tr>\n",
       "      <th>2</th>\n",
       "      <td>1.\\nIntroduction to LLMOps\\nGenerative AI mode...</td>\n",
       "      <td>{'source': 'llm_doc.pdf', 'page': 2}</td>\n",
       "    </tr>\n",
       "    <tr>\n",
       "      <th>3</th>\n",
       "      <td>translation and even creative writing.\\nUsing ...</td>\n",
       "      <td>{'source': 'llm_doc.pdf', 'page': 2}</td>\n",
       "    </tr>\n",
       "    <tr>\n",
       "      <th>4</th>\n",
       "      <td>with LLMs. Together, these allow data scientis...</td>\n",
       "      <td>{'source': 'llm_doc.pdf', 'page': 2}</td>\n",
       "    </tr>\n",
       "  </tbody>\n",
       "</table>\n",
       "</div>"
      ],
      "text/plain": [
       "                                              Chunks  \\\n",
       "0  Building Pipelines and Environments for  \\nLar...   \n",
       "1  Contents\\nIntroduction to LLMOps 1\\nWhy LLMOps...   \n",
       "2  1.\\nIntroduction to LLMOps\\nGenerative AI mode...   \n",
       "3  translation and even creative writing.\\nUsing ...   \n",
       "4  with LLMs. Together, these allow data scientis...   \n",
       "\n",
       "                               Metadata  \n",
       "0  {'source': 'llm_doc.pdf', 'page': 0}  \n",
       "1  {'source': 'llm_doc.pdf', 'page': 1}  \n",
       "2  {'source': 'llm_doc.pdf', 'page': 2}  \n",
       "3  {'source': 'llm_doc.pdf', 'page': 2}  \n",
       "4  {'source': 'llm_doc.pdf', 'page': 2}  "
      ]
     },
     "execution_count": 4,
     "metadata": {},
     "output_type": "execute_result"
    }
   ],
   "source": [
    "data = [{'Chunks': doc.page_content, 'Metadata': doc.metadata} for doc in doc_splits]\n",
    "df_vector_store = pd.DataFrame(data)\n",
    "df_vector_store.head()"
   ]
  },
  {
   "cell_type": "markdown",
   "metadata": {},
   "source": [
    "### Creación y carga del vector store"
   ]
  },
  {
   "cell_type": "code",
   "execution_count": 17,
   "metadata": {},
   "outputs": [],
   "source": [
    "file_name = open('credentials.json')\n",
    "config_env = json.load(file_name)\n",
    "api_key = config_env[\"openai_key\"]\n",
    "client = OpenAI(api_key=api_key)"
   ]
  },
  {
   "cell_type": "code",
   "execution_count": 7,
   "metadata": {},
   "outputs": [],
   "source": [
    "def text_embedding(text=[]):\n",
    "    embeddings = client.embeddings.create(model=\"text-embedding-ada-002\", input=text, encoding_format=\"float\")\n",
    "    return embeddings.data[0].embedding"
   ]
  },
  {
   "cell_type": "code",
   "execution_count": null,
   "metadata": {},
   "outputs": [],
   "source": [
    "df_vector_store[\"Embedding\"] = df_vector_store[\"Chunks\"].apply(lambda x: text_embedding([x]))\n",
    "df_vector_store[\"Embedding\"] = df_vector_store[\"Embedding\"].apply(np.array)\n",
    "\n",
    "df_vector_store.to_pickle('df_vector_store.pkl')"
   ]
  },
  {
   "cell_type": "code",
   "execution_count": 5,
   "metadata": {},
   "outputs": [
    {
     "data": {
      "text/html": [
       "<div>\n",
       "<style scoped>\n",
       "    .dataframe tbody tr th:only-of-type {\n",
       "        vertical-align: middle;\n",
       "    }\n",
       "\n",
       "    .dataframe tbody tr th {\n",
       "        vertical-align: top;\n",
       "    }\n",
       "\n",
       "    .dataframe thead th {\n",
       "        text-align: right;\n",
       "    }\n",
       "</style>\n",
       "<table border=\"1\" class=\"dataframe\">\n",
       "  <thead>\n",
       "    <tr style=\"text-align: right;\">\n",
       "      <th></th>\n",
       "      <th>Chunks</th>\n",
       "      <th>Metadata</th>\n",
       "      <th>Embedding</th>\n",
       "    </tr>\n",
       "  </thead>\n",
       "  <tbody>\n",
       "    <tr>\n",
       "      <th>0</th>\n",
       "      <td>Building Pipelines and Environments for  \\nLar...</td>\n",
       "      <td>{'source': 'llm_doc.pdf', 'page': 0}</td>\n",
       "      <td>[-0.00046735382, -0.012396803, 0.017612789, -0...</td>\n",
       "    </tr>\n",
       "    <tr>\n",
       "      <th>1</th>\n",
       "      <td>Contents\\nIntroduction to LLMOps 1\\nWhy LLMOps...</td>\n",
       "      <td>{'source': 'llm_doc.pdf', 'page': 1}</td>\n",
       "      <td>[0.0031267295, -0.0044250605, -0.0021370458, -...</td>\n",
       "    </tr>\n",
       "    <tr>\n",
       "      <th>2</th>\n",
       "      <td>1.\\nIntroduction to LLMOps\\nGenerative AI mode...</td>\n",
       "      <td>{'source': 'llm_doc.pdf', 'page': 2}</td>\n",
       "      <td>[-0.021221917, -0.00848473, -0.013968516, -0.0...</td>\n",
       "    </tr>\n",
       "    <tr>\n",
       "      <th>3</th>\n",
       "      <td>translation and even creative writing.\\nUsing ...</td>\n",
       "      <td>{'source': 'llm_doc.pdf', 'page': 2}</td>\n",
       "      <td>[-0.006761361, -0.005447042, -0.0034913784, -0...</td>\n",
       "    </tr>\n",
       "    <tr>\n",
       "      <th>4</th>\n",
       "      <td>with LLMs. Together, these allow data scientis...</td>\n",
       "      <td>{'source': 'llm_doc.pdf', 'page': 2}</td>\n",
       "      <td>[0.00697415, -0.010129701, 0.0035339396, -0.05...</td>\n",
       "    </tr>\n",
       "  </tbody>\n",
       "</table>\n",
       "</div>"
      ],
      "text/plain": [
       "                                              Chunks  \\\n",
       "0  Building Pipelines and Environments for  \\nLar...   \n",
       "1  Contents\\nIntroduction to LLMOps 1\\nWhy LLMOps...   \n",
       "2  1.\\nIntroduction to LLMOps\\nGenerative AI mode...   \n",
       "3  translation and even creative writing.\\nUsing ...   \n",
       "4  with LLMs. Together, these allow data scientis...   \n",
       "\n",
       "                               Metadata  \\\n",
       "0  {'source': 'llm_doc.pdf', 'page': 0}   \n",
       "1  {'source': 'llm_doc.pdf', 'page': 1}   \n",
       "2  {'source': 'llm_doc.pdf', 'page': 2}   \n",
       "3  {'source': 'llm_doc.pdf', 'page': 2}   \n",
       "4  {'source': 'llm_doc.pdf', 'page': 2}   \n",
       "\n",
       "                                           Embedding  \n",
       "0  [-0.00046735382, -0.012396803, 0.017612789, -0...  \n",
       "1  [0.0031267295, -0.0044250605, -0.0021370458, -...  \n",
       "2  [-0.021221917, -0.00848473, -0.013968516, -0.0...  \n",
       "3  [-0.006761361, -0.005447042, -0.0034913784, -0...  \n",
       "4  [0.00697415, -0.010129701, 0.0035339396, -0.05...  "
      ]
     },
     "execution_count": 5,
     "metadata": {},
     "output_type": "execute_result"
    }
   ],
   "source": [
    "df_vector_store = pd.read_pickle('df_vector_store.pkl')\n",
    "df_vector_store.head()"
   ]
  },
  {
   "cell_type": "markdown",
   "metadata": {},
   "source": [
    "### Busqueda semantica"
   ]
  },
  {
   "cell_type": "code",
   "execution_count": 8,
   "metadata": {},
   "outputs": [],
   "source": [
    "def cosine_similarity(row):\n",
    "    denominator1 = np.linalg.norm(row)\n",
    "    denominator2 = np.linalg.norm(query_vector.ravel())\n",
    "    dot_prod = np.dot(row, query_vector)\n",
    "    return dot_prod/(denominator1*denominator2)\n",
    "\n",
    "def get_context_from_query(query, vector_store, n_chunks = 5):\n",
    "    global query_vector\n",
    "    query_vector = np.array(text_embedding(query))\n",
    "    top_matched = (\n",
    "        vector_store[\"Embedding\"]\n",
    "        .apply(cosine_similarity)\n",
    "        .sort_values(ascending=False)[:n_chunks]\n",
    "        .index)\n",
    "    top_matched_df = vector_store[vector_store.index.isin(top_matched)][[\"Chunks\"]]\n",
    "    return list(top_matched_df['Chunks'])"
   ]
  },
  {
   "cell_type": "code",
   "execution_count": 9,
   "metadata": {},
   "outputs": [
    {
     "data": {
      "text/html": [
       "<div>\n",
       "<style scoped>\n",
       "    .dataframe tbody tr th:only-of-type {\n",
       "        vertical-align: middle;\n",
       "    }\n",
       "\n",
       "    .dataframe tbody tr th {\n",
       "        vertical-align: top;\n",
       "    }\n",
       "\n",
       "    .dataframe thead th {\n",
       "        text-align: right;\n",
       "    }\n",
       "</style>\n",
       "<table border=\"1\" class=\"dataframe\">\n",
       "  <thead>\n",
       "    <tr style=\"text-align: right;\">\n",
       "      <th></th>\n",
       "      <th>PREGUNTA</th>\n",
       "      <th>RESPUESTA</th>\n",
       "    </tr>\n",
       "  </thead>\n",
       "  <tbody>\n",
       "    <tr>\n",
       "      <th>0</th>\n",
       "      <td>¿Qué factores influyen en la selección de un m...</td>\n",
       "      <td>Requisitos técnicos y contexto.</td>\n",
       "    </tr>\n",
       "    <tr>\n",
       "      <th>1</th>\n",
       "      <td>¿Cuáles son las principales etapas en el entre...</td>\n",
       "      <td>Preprocesamiento y entrenamiento.</td>\n",
       "    </tr>\n",
       "    <tr>\n",
       "      <th>2</th>\n",
       "      <td>¿Qué diferencias existen entre modelos LLM de ...</td>\n",
       "      <td>Parámetros y capacidad de memoria.</td>\n",
       "    </tr>\n",
       "    <tr>\n",
       "      <th>3</th>\n",
       "      <td>¿Cómo se optimiza el rendimiento de un modelo ...</td>\n",
       "      <td>Fine-tuning y ajuste de hiperparámetros.</td>\n",
       "    </tr>\n",
       "    <tr>\n",
       "      <th>4</th>\n",
       "      <td>¿Qué herramientas se utilizan para evaluar un ...</td>\n",
       "      <td>Benchmarks y métricas de desempeño.</td>\n",
       "    </tr>\n",
       "    <tr>\n",
       "      <th>5</th>\n",
       "      <td>¿Qué consideraciones éticas se deben tener al ...</td>\n",
       "      <td>Privacidad y sesgo de los datos.</td>\n",
       "    </tr>\n",
       "    <tr>\n",
       "      <th>6</th>\n",
       "      <td>¿Qué tipos de datos son necesarios para entren...</td>\n",
       "      <td>Diversos y representativos del lenguaje.</td>\n",
       "    </tr>\n",
       "    <tr>\n",
       "      <th>7</th>\n",
       "      <td>¿Qué desafíos comunes se enfrentan al implemen...</td>\n",
       "      <td>Costo computacional y escalabilidad.</td>\n",
       "    </tr>\n",
       "  </tbody>\n",
       "</table>\n",
       "</div>"
      ],
      "text/plain": [
       "                                            PREGUNTA  \\\n",
       "0  ¿Qué factores influyen en la selección de un m...   \n",
       "1  ¿Cuáles son las principales etapas en el entre...   \n",
       "2  ¿Qué diferencias existen entre modelos LLM de ...   \n",
       "3  ¿Cómo se optimiza el rendimiento de un modelo ...   \n",
       "4  ¿Qué herramientas se utilizan para evaluar un ...   \n",
       "5  ¿Qué consideraciones éticas se deben tener al ...   \n",
       "6  ¿Qué tipos de datos son necesarios para entren...   \n",
       "7  ¿Qué desafíos comunes se enfrentan al implemen...   \n",
       "\n",
       "                                  RESPUESTA  \n",
       "0           Requisitos técnicos y contexto.  \n",
       "1         Preprocesamiento y entrenamiento.  \n",
       "2        Parámetros y capacidad de memoria.  \n",
       "3  Fine-tuning y ajuste de hiperparámetros.  \n",
       "4       Benchmarks y métricas de desempeño.  \n",
       "5          Privacidad y sesgo de los datos.  \n",
       "6  Diversos y representativos del lenguaje.  \n",
       "7      Costo computacional y escalabilidad.  "
      ]
     },
     "execution_count": 9,
     "metadata": {},
     "output_type": "execute_result"
    }
   ],
   "source": [
    "propios = pd.read_excel(\"Preguntas.xlsx\")\n",
    "propios"
   ]
  },
  {
   "cell_type": "code",
   "execution_count": 11,
   "metadata": {},
   "outputs": [],
   "source": [
    "preguntas = propios['PREGUNTA']\n",
    "respuestas = propios['RESPUESTA']"
   ]
  },
  {
   "cell_type": "markdown",
   "metadata": {},
   "source": [
    "### Embeddings para las respuestas"
   ]
  },
  {
   "cell_type": "code",
   "execution_count": null,
   "metadata": {},
   "outputs": [],
   "source": [
    "# 1. Respuesta\n",
    "vector_1 = np.array(text_embedding(respuestas[0]))"
   ]
  },
  {
   "cell_type": "code",
   "execution_count": 26,
   "metadata": {},
   "outputs": [],
   "source": [
    "# 2. Respuesta\n",
    "vector_2 = np.array(text_embedding(respuestas[1]))"
   ]
  },
  {
   "cell_type": "code",
   "execution_count": 27,
   "metadata": {},
   "outputs": [],
   "source": [
    "# 3. Respuesta\n",
    "vector_3 = np.array(text_embedding(respuestas[2]))"
   ]
  },
  {
   "cell_type": "code",
   "execution_count": 28,
   "metadata": {},
   "outputs": [],
   "source": [
    "# 4. Respuesta\n",
    "vector_4 = np.array(text_embedding(respuestas[3]))"
   ]
  },
  {
   "cell_type": "code",
   "execution_count": 29,
   "metadata": {},
   "outputs": [],
   "source": [
    "# 5. Respuesta\n",
    "vector_5 = np.array(text_embedding(respuestas[4]))"
   ]
  },
  {
   "cell_type": "code",
   "execution_count": 30,
   "metadata": {},
   "outputs": [],
   "source": [
    "# 6. Respuesta\n",
    "vector_6 = np.array(text_embedding(respuestas[5]))"
   ]
  },
  {
   "cell_type": "code",
   "execution_count": 31,
   "metadata": {},
   "outputs": [],
   "source": [
    "# 7. Respuesta\n",
    "vector_7 = np.array(text_embedding(respuestas[6]))"
   ]
  },
  {
   "cell_type": "code",
   "execution_count": 32,
   "metadata": {},
   "outputs": [],
   "source": [
    "# 8. Respuesta\n",
    "vector_8 = np.array(text_embedding(respuestas[7]))"
   ]
  },
  {
   "cell_type": "code",
   "execution_count": 38,
   "metadata": {},
   "outputs": [],
   "source": [
    "vector_respuestas = [vector_1,vector_2,vector_3,vector_4,\n",
    "                     vector_5,vector_6,vector_7,vector_8]"
   ]
  },
  {
   "cell_type": "code",
   "execution_count": 39,
   "metadata": {},
   "outputs": [
    {
     "data": {
      "text/plain": [
       "[array([ 0.00411996, -0.01742982,  0.0233805 , ...,  0.00487204,\n",
       "         0.01029824,  0.01479094]),\n",
       " array([-0.03569395, -0.00841042,  0.01548297, ...,  0.01682084,\n",
       "        -0.03377157,  0.0087871 ]),\n",
       " array([-0.0071815 ,  0.00484751,  0.02256852, ...,  0.00381351,\n",
       "        -0.02012149, -0.00950218]),\n",
       " array([-0.03014619,  0.00238158,  0.02191459, ...,  0.00963533,\n",
       "        -0.01606797,  0.00206131]),\n",
       " array([-0.0324778 , -0.01149861,  0.03101508, ...,  0.00124094,\n",
       "        -0.01191846, -0.00878986]),\n",
       " array([-0.00965966, -0.01300585,  0.03578697, ...,  0.01691724,\n",
       "        -0.01052029,  0.01289025]),\n",
       " array([-0.01968504, -0.00447033,  0.01261296, ..., -0.01363809,\n",
       "        -0.01372892, -0.01384571]),\n",
       " array([-1.7430803e-03, -3.0542828e-02,  2.8376670e-02, ...,\n",
       "         3.0964000e-05, -1.5867108e-02, -7.9674000e-03])]"
      ]
     },
     "execution_count": 39,
     "metadata": {},
     "output_type": "execute_result"
    }
   ],
   "source": [
    "vector_respuestas"
   ]
  },
  {
   "cell_type": "code",
   "execution_count": 40,
   "metadata": {},
   "outputs": [],
   "source": [
    "pd.to_pickle(vector_respuestas, \"vector_respuestas.pkl\")"
   ]
  },
  {
   "cell_type": "markdown",
   "metadata": {},
   "source": [
    "### Respuestas del chatbot"
   ]
  },
  {
   "cell_type": "code",
   "execution_count": 14,
   "metadata": {},
   "outputs": [],
   "source": [
    "custom_prompt = \"\"\"\n",
    "Eres una Inteligencia Artificial super avanzada que trabaja asistente personal.\n",
    "Utilice los RESULTADOS DE BÚSQUEDA SEMANTICA para responder las preguntas del usuario.\n",
    "Solo debes utilizar la informacion de la BUSQUEDA SEMANTICA si es que hace sentido y tiene relacion con la pregunta del usuario.\n",
    "Si la respuesta no se encuentra dentro del contexto de la búsqueda semántica, no inventes una respuesta, y responde amablemente que no tienes información para responder.\n",
    "\n",
    "RESULTADOS DE BÚSQUEDA SEMANTICA:\n",
    "{source}\n",
    "\n",
    "Lee cuidadosamente las instrucciones, respira profundo y escribe una respuesta para el usuario!\n",
    "\"\"\""
   ]
  },
  {
   "cell_type": "code",
   "execution_count": null,
   "metadata": {},
   "outputs": [
    {
     "data": {
      "text/plain": [
       "'La selección de un modelo de Lenguaje de Aprendizaje a Gran Escala (LLM) se basa en varios factores:\\n\\n1. Rendimiento del modelo en tareas de referencia: Esto se refiere a cómo se desempeña el modelo en tareas específicas y cómo se compara con otros modelos.\\n\\n2. Disponibilidad para ejecutarse en hardware menos costoso: Algunos modelos pueden requerir recursos de hardware significativos, lo que puede ser un factor limitante para algunas organizaciones.\\n\\n3. Disponibilidad de modelos pre-entrenados específicos del dominio: Algunos modelos están diseñados para tareas específicas, como BloombergGPT para la industria financiera, Med-PaLM2 y BioMedLM para el dominio médico, y Galactica, un LLM afinado con conocimiento científico.\\n\\n4. Términos de licencia del modelo de base: Esto se refiere a las condiciones bajo las cuales se puede utilizar el modelo. Algunas organizaciones pueden optar por un servicio de modelo administrado proporcionado por varios proveedores, mientras que otras pueden preferir utilizar un modelo de código abierto.\\n\\n5. La capacidad del modelo para beneficiarse del ajuste de instrucciones: Algunos modelos pueden mejorar su rendimiento con el ajuste de instrucciones, aunque esto puede depender del tamaño del modelo.\\n\\nEstos factores deben considerarse cuidadosamente al seleccionar un modelo LLM para un proyecto específico.'"
      ]
     },
     "execution_count": 35,
     "metadata": {},
     "output_type": "execute_result"
    }
   ],
   "source": [
    "# 1. Respuesta\n",
    "Context_list1 = get_context_from_query(query = preguntas[0], vector_store = df_vector_store, n_chunks = 5)\n",
    "completion = client.chat.completions.create(model=\"gpt-4\", temperature = 0.0,\n",
    "                                            messages=[{\"role\": \"system\", \"content\": custom_prompt.format(source = str(Context_list1))},\n",
    "                                                      {\"role\": \"user\", \"content\": preguntas[0]}])\n",
    "respuesta_1 = completion.choices[0].message.content\n",
    "respuesta_1"
   ]
  },
  {
   "cell_type": "code",
   "execution_count": null,
   "metadata": {},
   "outputs": [],
   "source": [
    "# 1. Respuesta\n",
    "Context_list1 = get_context_from_query(query = preguntas[0], vector_store = df_vector_store, n_chunks = 5)\n",
    "completion1 = client.chat.completions.create(model=\"gpt-4\", temperature = 0.0,\n",
    "                                            messages=[{\"role\": \"system\", \"content\": custom_prompt.format(source = str(Context_list1))},\n",
    "                                                      {\"role\": \"user\", \"content\": preguntas[0]}])\n",
    "respuesta_1 = completion1.choices[0].message.content\n",
    "respuesta_1"
   ]
  },
  {
   "cell_type": "code",
   "execution_count": 41,
   "metadata": {},
   "outputs": [
    {
     "data": {
      "text/plain": [
       "'Las principales etapas en el entrenamiento de un modelo de lenguaje grande (LLM) según los resultados de la búsqueda semántica son:\\n\\n1. Recopilación, preparación y etiquetado de datos: Esta etapa implica la obtención de datos, asegurando su completitud, añadiendo etiquetas y realizando transformaciones de datos para generar características.\\n\\n2. Selección de modelos de base: Dado que el entrenamiento de LLMs desde cero es costoso y consume mucho tiempo, muchos investigadores y profesionales optan por utilizar LLMs preentrenados como modelos de base, que pueden ser afinados o adaptados a aplicaciones específicas con menos datos y recursos.\\n\\n3. Uso de modelos de lenguaje grande: Esto implica la afinación y el ajuste de los modelos para adaptarse a las necesidades específicas del proyecto.\\n\\n4. Evaluación de los modelos y control de versiones: Esta etapa implica la evaluación del rendimiento del modelo y el seguimiento de las diferentes versiones del modelo a lo largo del tiempo.\\n\\n5. Despliegue y monitoreo: Los modelos se pueden desplegar como APIs listas para producción con unos pocos pasos. Esta etapa también implica el monitoreo del rendimiento del modelo y la optimización del mismo para mejorar su eficiencia.\\n\\n6. Consideraciones de seguridad, privacidad, gobernanza y ética: Dado que los LLMs se entrenan en grandes cantidades de datos de texto, es importante tener en cuenta las cuestiones de privacidad y cumplimiento de los datos.'"
      ]
     },
     "execution_count": 41,
     "metadata": {},
     "output_type": "execute_result"
    }
   ],
   "source": [
    "# 2. Respuesta\n",
    "Context_list2 = get_context_from_query(query = preguntas[1], vector_store = df_vector_store, n_chunks = 5)\n",
    "completion2 = client.chat.completions.create(model=\"gpt-4\", temperature = 0.0,\n",
    "                                            messages=[{\"role\": \"system\", \"content\": custom_prompt.format(source = str(Context_list2))},\n",
    "                                                      {\"role\": \"user\", \"content\": preguntas[1]}])\n",
    "respuesta_2 = completion2.choices[0].message.content\n",
    "respuesta_2"
   ]
  },
  {
   "cell_type": "code",
   "execution_count": 42,
   "metadata": {},
   "outputs": [
    {
     "data": {
      "text/plain": [
       "'Los modelos de lenguaje a gran escala (LLM) de diferentes tamaños pueden tener variaciones en su rendimiento y capacidad para generalizar a partir de los datos de entrenamiento. Según los resultados de la búsqueda semántica, el enfoque FLAN, por ejemplo, reduce el rendimiento a tamaños más pequeños, y solo a escalas más altas el modelo puede generalizar a partir de las instrucciones de los datos de entrenamiento. Esto puede deberse a que los modelos más pequeños carecen de los parámetros necesarios para llevar a cabo una amplia gama de tareas. Además, muchos de los modelos LLM requieren hardware costoso y de alto rendimiento para funcionar y desplegarse, aunque cada vez hay más modelos inspirados en LLaMA, como Vicuna, que se pueden ejecutar en hardware menos costoso.'"
      ]
     },
     "execution_count": 42,
     "metadata": {},
     "output_type": "execute_result"
    }
   ],
   "source": [
    "# 3. Respuesta\n",
    "Context_list3 = get_context_from_query(query = preguntas[2], vector_store = df_vector_store, n_chunks = 5)\n",
    "completion3 = client.chat.completions.create(model=\"gpt-4\", temperature = 0.0,\n",
    "                                            messages=[{\"role\": \"system\", \"content\": custom_prompt.format(source = str(Context_list3))},\n",
    "                                                      {\"role\": \"user\", \"content\": preguntas[2]}])\n",
    "respuesta_3 = completion3.choices[0].message.content\n",
    "respuesta_3"
   ]
  },
  {
   "cell_type": "code",
   "execution_count": 43,
   "metadata": {},
   "outputs": [
    {
     "data": {
      "text/plain": [
       "'El rendimiento de un modelo de Lenguaje de Gran Escala (LLM, por sus siglas en inglés) se puede optimizar de varias maneras. Una de ellas es a través de la infraestructura, la escalabilidad y el rendimiento. Los LLM requieren recursos computacionales significativos para la recopilación de datos de texto. Estos modelos a menudo están compuestos de múltiples capas y componentes, como transformadores, redes neuronales recurrentes, mecanismos de atención y embeddings. Entrenar estos modelos requiere recursos computacionales altos y algoritmos de optimización eficientes.\\n\\nAdemás, se pueden utilizar técnicas de ajuste fino, como se muestra en el ejemplo del modelo LLaMA-7B, que se ajustó utilizando instrucciones generadas por un modelo de lenguaje más grande. Este proceso de ajuste fino puede ser rentable.\\n\\nOtras técnicas de optimización incluyen la cuantización, que es una operación de compresión común utilizada para reducir la huella de memoria del modelo y mejorar el rendimiento de la inferencia. La poda es otra técnica que se utiliza para reducir el tamaño y la complejidad computacional de un LLM al eliminar parámetros de modelo redundantes o innecesarios, lo que mejora la eficiencia del modelo.\\n\\nFinalmente, la implementación y el monitoreo también son aspectos clave para optimizar el rendimiento de un LLM. Las características clave de la implementación de LLM incluyen una implementación sin problemas, eficiencia de costos a través de la escalabilidad automática, y la optimización utilizando código transformador propietario y técnicas como Flash Attention Power y Paged Attention para permitir un alto rendimiento con una latencia mínima.'"
      ]
     },
     "execution_count": 43,
     "metadata": {},
     "output_type": "execute_result"
    }
   ],
   "source": [
    "# 4. Respuesta\n",
    "Context_list4 = get_context_from_query(query = preguntas[3], vector_store = df_vector_store, n_chunks = 5)\n",
    "completion4 = client.chat.completions.create(model=\"gpt-4\", temperature = 0.0,\n",
    "                                            messages=[{\"role\": \"system\", \"content\": custom_prompt.format(source = str(Context_list4))},\n",
    "                                                      {\"role\": \"user\", \"content\": preguntas[3]}])\n",
    "respuesta_4 = completion4.choices[0].message.content\n",
    "respuesta_4"
   ]
  },
  {
   "cell_type": "code",
   "execution_count": 44,
   "metadata": {},
   "outputs": [
    {
     "data": {
      "text/plain": [
       "'Los modelos de lenguaje a gran escala (LLM) se evalúan utilizando una variedad de métodos y métricas. Algunos de los métodos de evaluación comúnmente utilizados para los LLM incluyen:\\n\\n1. Perplejidad: Proporciona resultados en formato cuantitativo para determinar el nivel de rendimiento del modelo. Cuanto menor sea la perplejidad, mejor será el rendimiento. Se utiliza para determinar cuánto se sorprende el modelo al ver nuevos datos. La perplejidad se utiliza generalmente solo para determinar cuán extensamente un modelo ha aprendido el conjunto de entrenamiento.\\n\\n2. Métricas como BLEU y ROUGE: Se utilizan en el conjunto de pruebas para medir el rendimiento.\\n\\n3. Evaluación de recuperación: Se considera la tarea de recuperar imágenes a partir de consultas de oraciones. Dada una oración de prueba, se calcula la perplejidad del modelo condicionada a cada imagen de prueba y se clasifica.\\n\\n4. Evaluación de alucinación de subtítulos con relevancia de imagen (CHAIR): Es una estadística popular para evaluar la alucinación de objetos en actividades que requieren subtítulos de imágenes. CHAIR determina el porcentaje de cosas que están en la imagen, pero no en el subtítulo basado en los objetos reales en la imagen.\\n\\nAdemás, existen varios puntos de referencia públicos que ofrecen evaluaciones integrales de los modelos de lenguaje a gran escala en diversas tareas y conjuntos de datos. Algunos ejemplos de estos son HELM, GLUE, SuperGLUE, Big-Bench y MMLU.'"
      ]
     },
     "execution_count": 44,
     "metadata": {},
     "output_type": "execute_result"
    }
   ],
   "source": [
    "# 5. Respuesta\n",
    "Context_list5 = get_context_from_query(query = preguntas[4], vector_store = df_vector_store, n_chunks = 5)\n",
    "completion5 = client.chat.completions.create(model=\"gpt-4\", temperature = 0.0,\n",
    "                                            messages=[{\"role\": \"system\", \"content\": custom_prompt.format(source = str(Context_list5))},\n",
    "                                                      {\"role\": \"user\", \"content\": preguntas[4]}])\n",
    "respuesta_5 = completion5.choices[0].message.content\n",
    "respuesta_5"
   ]
  },
  {
   "cell_type": "code",
   "execution_count": 45,
   "metadata": {},
   "outputs": [
    {
     "data": {
      "text/plain": [
       "'Al usar un modelo de lenguaje grande (LLM), hay varias consideraciones éticas que deben tenerse en cuenta. Los LLM pueden ser vulnerables a varios tipos de ataques, incluyendo ejemplos adversarios y manipulación. Los actores malintencionados podrían explotar estas vulnerabilidades para generar contenido engañoso o dañino, difundir desinformación o participar en otras actividades nefastas.\\n\\nAdemás, los LLM pueden filtrar información sensible de los datos de entrenamiento o podrían memorizar y reproducir inadvertidamente detalles privados o identificables personalmente, lo que plantea problemas de privacidad para las personas cuyos datos se utilizan en el proceso de entrenamiento.\\n\\nEl despliegue no controlado de LLM podría llevar a la generación de contenido sesgado, ofensivo o discriminatorio. Se necesitan mecanismos de gobernanza adecuados para asegurar que las salidas de estos modelos se alineen con los estándares éticos y no perpetúen sesgos dañinos.\\n\\nFinalmente, generar contenido con LLM podría plantear preocupaciones sobre los derechos de propiedad intelectual. Determinar la propiedad y la autoría de los textos generados puede ser un desafío, especialmente cuando el modelo incorpora un vasto corpus de datos públicamente disponibles.'"
      ]
     },
     "execution_count": 45,
     "metadata": {},
     "output_type": "execute_result"
    }
   ],
   "source": [
    "# 6. Respuesta\n",
    "Context_list6 = get_context_from_query(query = preguntas[5], vector_store = df_vector_store, n_chunks = 5)\n",
    "completion6 = client.chat.completions.create(model=\"gpt-4\", temperature = 0.0,\n",
    "                                            messages=[{\"role\": \"system\", \"content\": custom_prompt.format(source = str(Context_list6))},\n",
    "                                                      {\"role\": \"user\", \"content\": preguntas[5]}])\n",
    "respuesta_6 = completion6.choices[0].message.content\n",
    "respuesta_6"
   ]
  },
  {
   "cell_type": "code",
   "execution_count": 46,
   "metadata": {},
   "outputs": [
    {
     "data": {
      "text/plain": [
       "'Los modelos de Lenguaje a Gran Escala (LLM, por sus siglas en inglés) requieren cantidades masivas de datos para su entrenamiento. Estos datos suelen ser textuales y su recolección puede ser un desafío, especialmente si los datos son específicos para un dominio o tarea particular. La calidad de los datos es crítica para el rendimiento de los modelos LLM. Cualquier sesgo o inconsistencia en los datos puede ser amplificado por el modelo, lo que puede llevar a un rendimiento deficiente. Si los datos son ruidosos o inconsistentes, pueden llevar a errores en el modelo, como la generación de texto incorrecto o sin sentido. La etiquetación de los datos para tales tareas puede ser una actividad costosa, que consume mucho tiempo y es compleja, que requiere expertos humanos, conocimientos del dominio o directrices específicas.'"
      ]
     },
     "execution_count": 46,
     "metadata": {},
     "output_type": "execute_result"
    }
   ],
   "source": [
    "# 7. Respuesta\n",
    "Context_list7 = get_context_from_query(query = preguntas[6], vector_store = df_vector_store, n_chunks = 5)\n",
    "completion7 = client.chat.completions.create(model=\"gpt-4\", temperature = 0.0,\n",
    "                                            messages=[{\"role\": \"system\", \"content\": custom_prompt.format(source = str(Context_list7))},\n",
    "                                                      {\"role\": \"user\", \"content\": preguntas[6]}])\n",
    "respuesta_7 = completion7.choices[0].message.content\n",
    "respuesta_7"
   ]
  },
  {
   "cell_type": "code",
   "execution_count": 47,
   "metadata": {},
   "outputs": [
    {
     "data": {
      "text/plain": [
       "'Los desafíos comunes al implementar modelos de Lenguaje de Gran Escala (LLM) incluyen:\\n\\n1. Infraestructura, escalado y rendimiento: Los LLM requieren recursos computacionales significativos para la recopilación de datos de texto. Los LLM a menudo están compuestos de múltiples capas y componentes, como transformadores, redes neuronales recurrentes, mecanismos de atención y embeddings. Entrenar estos modelos requiere altos recursos computacionales y algoritmos de optimización eficientes.\\n\\n2. Ambigüedad de los lenguajes naturales: Los prompts pueden ser interpretados de manera diferente por los usuarios y los LLM, lo que puede llevar a fallos silenciosos o salidas inesperadas. La ingeniería de prompts requiere métodos rigurosos de evaluación, versionado y optimización para garantizar la calidad y la consistencia.\\n\\n3. Compatibilidad hacia atrás y hacia adelante: Los LLM están en constante evolución y actualización, lo que puede afectar el comportamiento y rendimiento de los prompts existentes. La ingeniería de prompts necesita tener en cuenta los problemas de compatibilidad entre diferentes versiones de LLM y garantizar transiciones suaves.\\n\\n4. Costo y latencia: Los LLM son costosos de ejecutar y pueden tener una alta latencia para aplicaciones en tiempo real. El análisis de costos y latencia para los LLM es difícil debido a la variabilidad de las entradas y salidas.\\n\\n5. Consideraciones de seguridad, privacidad y ética: Los LLM pueden generar contenido que promueva el discurso de odio, la violencia o la desinformación. Además, pueden revelar datos sensibles y generar preocupaciones sobre los derechos de propiedad intelectual. Es necesario contar con mecanismos de gobernanza adecuados para garantizar que las salidas de estos modelos se alineen con los estándares éticos y no perpetúen sesgos dañinos.'"
      ]
     },
     "execution_count": 47,
     "metadata": {},
     "output_type": "execute_result"
    }
   ],
   "source": [
    "# 8. Respuesta\n",
    "Context_list8 = get_context_from_query(query = preguntas[7], vector_store = df_vector_store, n_chunks = 5)\n",
    "completion8 = client.chat.completions.create(model=\"gpt-4\", temperature = 0.0,\n",
    "                                            messages=[{\"role\": \"system\", \"content\": custom_prompt.format(source = str(Context_list8))},\n",
    "                                                      {\"role\": \"user\", \"content\": preguntas[7]}])\n",
    "respuesta_8 = completion8.choices[0].message.content\n",
    "respuesta_8"
   ]
  },
  {
   "cell_type": "code",
   "execution_count": 50,
   "metadata": {},
   "outputs": [],
   "source": [
    "respuestas_chat = [respuesta_1,respuesta_2,respuesta_3,respuesta_4, \n",
    "                   respuesta_5,respuesta_6,respuesta_7, respuesta_8]\n",
    "pd.to_pickle(respuestas_chat, \"respuestas_chat.pkl\")"
   ]
  },
  {
   "cell_type": "markdown",
   "metadata": {},
   "source": [
    "### Comparación respuestas"
   ]
  },
  {
   "cell_type": "code",
   "execution_count": 16,
   "metadata": {},
   "outputs": [],
   "source": [
    "def cosine_test(row1, row2):\n",
    "    denominator1 = np.linalg.norm(row1.ravel())\n",
    "    denominator2 = np.linalg.norm(row2.ravel())\n",
    "    dot_prod = np.dot(row1, row2)\n",
    "    return dot_prod/(denominator1*denominator2)"
   ]
  },
  {
   "cell_type": "code",
   "execution_count": null,
   "metadata": {},
   "outputs": [],
   "source": [
    "vector_respuesta1 = np.array(text_embedding(respuesta_1))\n",
    "vector_respuesta2 = np.array(text_embedding(respuesta_2))\n",
    "vector_respuesta3 = np.array(text_embedding(respuesta_3))\n",
    "vector_respuesta4 = np.array(text_embedding(respuesta_4))\n",
    "vector_respuesta5 = np.array(text_embedding(respuesta_5))\n",
    "vector_respuesta6 = np.array(text_embedding(respuesta_6))\n",
    "vector_respuesta7 = np.array(text_embedding(respuesta_7))\n",
    "vector_respuesta8 = np.array(text_embedding(respuesta_8))"
   ]
  },
  {
   "cell_type": "code",
   "execution_count": 59,
   "metadata": {},
   "outputs": [],
   "source": [
    "vector_respuestas_chat = [vector_respuesta1, vector_respuesta2, vector_respuesta3, vector_respuesta4,\n",
    "                          vector_respuesta5, vector_respuesta6, vector_respuesta7, vector_respuesta8]\n",
    "pd.to_pickle(vector_respuestas_chat, \"vector_respuestas_chat.pkl\")"
   ]
  },
  {
   "cell_type": "code",
   "execution_count": 61,
   "metadata": {},
   "outputs": [
    {
     "data": {
      "text/plain": [
       "[0.8116081861015266,\n",
       " 0.842869827145529,\n",
       " 0.7968801204958689,\n",
       " 0.8265532351943105,\n",
       " 0.8376553020236562,\n",
       " 0.7934903023778033,\n",
       " 0.8133002750230917,\n",
       " 0.8264850030589421]"
      ]
     },
     "execution_count": 61,
     "metadata": {},
     "output_type": "execute_result"
    }
   ],
   "source": [
    "similitudes = [cosine_test(vector_1, vector_respuesta1),\n",
    "               cosine_test(vector_2, vector_respuesta2),\n",
    "               cosine_test(vector_3, vector_respuesta3),\n",
    "               cosine_test(vector_4, vector_respuesta4),\n",
    "               cosine_test(vector_5, vector_respuesta5),\n",
    "               cosine_test(vector_6, vector_respuesta6),\n",
    "               cosine_test(vector_7, vector_respuesta7),\n",
    "               cosine_test(vector_8, vector_respuesta8)]\n",
    "similitudes"
   ]
  },
  {
   "cell_type": "code",
   "execution_count": null,
   "metadata": {},
   "outputs": [
    {
     "data": {
      "text/plain": [
       "[1, 1, 0, 1, 1, 0, 1, 1]"
      ]
     },
     "execution_count": 63,
     "metadata": {},
     "output_type": "execute_result"
    }
   ],
   "source": [
    "precision = [1 if x >= 0.8 else 0 for x in similitudes]\n",
    "precision"
   ]
  },
  {
   "cell_type": "code",
   "execution_count": 86,
   "metadata": {},
   "outputs": [
    {
     "data": {
      "image/png": "[encoded data removed]",
      "text/plain": [
       "<Figure size 800x500 with 1 Axes>"
      ]
     },
     "metadata": {},
     "output_type": "display_data"
    }
   ],
   "source": [
    "n_observaciones = len(precision)\n",
    "acumulado = np.cumsum(precision)\n",
    "accuracy = acumulado / np.arange(1, n_observaciones + 1) \n",
    "\n",
    "plt.figure(figsize=(8, 5))\n",
    "plt.plot(range(1, n_observaciones + 1), acumulado, marker='o', label='Predicción')\n",
    "\n",
    "plt.xlabel('Número de observaciones')\n",
    "plt.ylabel('Predicción')\n",
    "plt.xticks(range(1, n_observaciones + 1))\n",
    "plt.legend()\n",
    "plt.grid()\n",
    "\n",
    "plt.show()"
   ]
  },
  {
   "cell_type": "code",
   "execution_count": 85,
   "metadata": {},
   "outputs": [
    {
     "data": {
      "text/plain": [
       "'El accuracy final del chatbot fue de 0.75'"
      ]
     },
     "execution_count": 85,
     "metadata": {},
     "output_type": "execute_result"
    }
   ],
   "source": [
    "f\"El accuracy final del chatbot fue de {6/8}\""
   ]
  }
 ],
 "metadata": {
  "kernelspec": {
   "display_name": "my_env",
   "language": "python",
   "name": "python3"
  },
  "language_info": {
   "codemirror_mode": {
    "name": "ipython",
    "version": 3
   },
   "file_extension": ".py",
   "mimetype": "text/x-python",
   "name": "python",
   "nbconvert_exporter": "python",
   "pygments_lexer": "ipython3",
   "version": "3.10.11"
  }
 },
 "nbformat": 4,
 "nbformat_minor": 2
}
